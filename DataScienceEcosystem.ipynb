{
 "cells": [
  {
   "cell_type": "markdown",
   "id": "d24dd40d-9a03-4b85-a975-07d30306d70a",
   "metadata": {},
   "source": [
    "# Data Science Tools and Ecosystem"
   ]
  },
  {
   "cell_type": "markdown",
   "id": "91f149d1-a3f4-4fe4-90e0-1455ddbd0d89",
   "metadata": {},
   "source": [
    "In this notebook, Data Science Tools and Ecosystem are summarized."
   ]
  },
  {
   "cell_type": "markdown",
   "id": "72b6e605-53bf-4000-bd11-a486e5911d94",
   "metadata": {},
   "source": [
    "Some of the popular languages that Data Scientists use are:\n",
    "1. Python\n",
    "2. R\n",
    "3. C++"
   ]
  },
  {
   "cell_type": "markdown",
   "id": "73ffcb95-1c77-402a-8011-c8c97cfddb28",
   "metadata": {},
   "source": [
    "Some of the commonly used libraries used by Data Scientists include:\n",
    "1. pandas\n",
    "2. numpy\n",
    "3. matplotlib"
   ]
  },
  {
   "cell_type": "markdown",
   "id": "71c27aae-9ea0-4fad-8ec7-24b4d46cb29e",
   "metadata": {},
   "source": [
    "| Data Science Tools     | \n",
    "| ----------- |\n",
    "| Jupyter Notebook     |\n",
    "| Visual Studio Code  | \n",
    "| RStudio  | "
   ]
  },
  {
   "cell_type": "markdown",
   "id": "7425ec27-9a56-4dc0-b2ba-3bacf39e8469",
   "metadata": {},
   "source": [
    "### Below are a few examples of evaluating arithmetic expressions in Python"
   ]
  },
  {
   "cell_type": "code",
   "execution_count": 2,
   "id": "49428115-f51e-4c6b-9fac-cf80f94182ab",
   "metadata": {},
   "outputs": [
    {
     "data": {
      "text/plain": [
       "17"
      ]
     },
     "execution_count": 2,
     "metadata": {},
     "output_type": "execute_result"
    }
   ],
   "source": [
    "(3*4)+5\n",
    "# This a simple arithmetic expression to mutiply then add integers"
   ]
  },
  {
   "cell_type": "code",
   "execution_count": 3,
   "id": "7c7a181c-5b1e-489e-96ff-a9b38c3a4184",
   "metadata": {},
   "outputs": [
    {
     "data": {
      "text/plain": [
       "3.3333333333333335"
      ]
     },
     "execution_count": 3,
     "metadata": {},
     "output_type": "execute_result"
    }
   ],
   "source": [
    "# This will convert 200 minutes to hours by diving by 60\n",
    "200 / 60"
   ]
  },
  {
   "cell_type": "markdown",
   "id": "1326241e-26a5-4e33-9784-5a13f97a3084",
   "metadata": {},
   "source": [
    "**Objectives:** List popular languages for Data Science\n",
    "- python\n",
    "- R\n",
    "- C++\n",
    "- Java"
   ]
  },
  {
   "cell_type": "markdown",
   "id": "d87a3844-0ac2-4f17-aaa7-29b9810e18df",
   "metadata": {},
   "source": [
    "## Author\n",
    "Luoran Gao"
   ]
  },
  {
   "cell_type": "code",
   "execution_count": null,
   "id": "18843172-4edd-4373-b05c-6c594c9a8e34",
   "metadata": {},
   "outputs": [],
   "source": []
  }
 ],
 "metadata": {
  "kernelspec": {
   "display_name": "Python 3 (ipykernel)",
   "language": "python",
   "name": "python3"
  },
  "language_info": {
   "codemirror_mode": {
    "name": "ipython",
    "version": 3
   },
   "file_extension": ".py",
   "mimetype": "text/x-python",
   "name": "python",
   "nbconvert_exporter": "python",
   "pygments_lexer": "ipython3",
   "version": "3.12.8"
  }
 },
 "nbformat": 4,
 "nbformat_minor": 5
}
